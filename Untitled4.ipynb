{
  "nbformat": 4,
  "nbformat_minor": 0,
  "metadata": {
    "colab": {
      "provenance": [],
      "authorship_tag": "ABX9TyP+736V32M9Bigp6Irx+Xxv",
      "include_colab_link": true
    },
    "kernelspec": {
      "name": "python3",
      "display_name": "Python 3"
    },
    "language_info": {
      "name": "python"
    }
  },
  "cells": [
    {
      "cell_type": "markdown",
      "metadata": {
        "id": "view-in-github",
        "colab_type": "text"
      },
      "source": [
        "<a href=\"https://colab.research.google.com/github/IamSxntzzzz81/FunProgMec_000522674_Taller5/blob/main/Untitled4.ipynb\" target=\"_parent\"><img src=\"https://colab.research.google.com/assets/colab-badge.svg\" alt=\"Open In Colab\"/></a>"
      ]
    },
    {
      "cell_type": "markdown",
      "source": [],
      "metadata": {
        "id": "yh0DWKo0HULm"
      }
    },
    {
      "cell_type": "markdown",
      "source": [
        "## Santiago José Niño Miranda ##\n",
        "## 000522674 ##\n",
        "## santoninomiranda@gmail.com ##"
      ],
      "metadata": {
        "id": "lpAxUEleHmJM"
      }
    },
    {
      "cell_type": "code",
      "source": [
        "import random\n",
        "\n",
        "presupuesto = int(input(\"Ingrese presupuesto (en millones de pesos): \"))\n",
        "porcentaje1 = int(input(\"Ingrese porcentaje 1: \"))\n",
        "porcentaje2 = int(input(\"Ingrese Porcentaje 2: \"))\n",
        "porcentaje3 = int(input(\"Ingrese Porcentaje 3: \"))\n",
        "porcentaje_1 = (presupuesto * porcentaje1) / 100\n",
        "porcentaje_2 = (presupuesto * porcentaje2) / 100\n",
        "porcentaje_3 = (presupuesto * porcentaje3) / 100\n",
        "\n",
        "titulo = [\"Queridos\", \"Apreciados\", \"Distinguidos\", \"Honorables\", \"Estimados\", \"Respetados\"]\n",
        "publico_objetivo = [\"compatriotas\", \"copartidarios\", \"amigos\", \"coterraneos\", \"conciudadanos\", \"electores\"]\n",
        "condicion = [\"en mi gobierno\", \"con su apoyo\", \"siendo elegido\", \"con su ayuda\", \"si me siguen\", \"durante mi mandato\"]\n",
        "compromiso = [\"voy a derrotar\", \"venceré\", \"eliminaré\", \"acabaré\", \"lucharé contra\", \"combatiré\"]\n",
        "ilusion_de_lucha = [\"la violencia y\", \"la delincuencia y\", \"la corrupción y\", \"la inflación y\", \"la pobreza y\", \"el desplazamiento y\"]\n",
        "promesa = [\"trabajaré por\", \"garantizaré\", \"protegeré\", \"velaré por\", \"promeveré\", \"defenderé\"]\n",
        "beneficio_populista = [\"la educación\", \"el empleo\", \"la seguridad\", \"la paz\", \"la igualdad\", \"la salud\"]\n",
        "dependiendo_de_la_cantidad_de_votos = [\"del país.\", \"de la ciudad.\", \"de la comunidad.\", \"de la población.\", \"para toda la gente.\", \"de cada colombiano.\"]\n",
        "\n",
        "# Generación aleatoria del discurso\n",
        "titulo = random.choice(titulo)\n",
        "publico_objetivo = random.choice(publico_objetivo)\n",
        "condicion = random.choice(condicion)\n",
        "compromiso = random.choice(compromiso)\n",
        "ilusion_de_lucha = random.choice(ilusion_de_lucha)\n",
        "promesa = random.choice(promesa)\n",
        "beneficio_populista = random.choice(beneficio_populista)\n",
        "dependiendo_de_la_cantidad_de_votos = random.choice(dependiendo_de_la_cantidad_de_votos)\n",
        "\n",
        "mensaje_politico = f\"{titulo}, {publico_objetivo}, {condicion}, {compromiso}, {ilusion_de_lucha}, {promesa}, {beneficio_populista}, {dependiendo_de_la_cantidad_de_votos}. Y es por eso que hoy he venido a proponerles invertir {presupuesto} millones de pesos de la siguiente manera:\"\n",
        "p1 = f\"{porcentaje_1} millones de pesos en el empleo\"\n",
        "p2 = f\"{porcentaje_2} millones de pesos en la educación\"\n",
        "p3 = f\"{porcentaje_3} millones de pesos en la salud\"\n",
        "\n",
        "print(mensaje_politico)\n",
        "print(p1)\n",
        "print(p2)\n",
        "print(p3)"
      ],
      "metadata": {
        "colab": {
          "base_uri": "https://localhost:8080/"
        },
        "id": "QOYNCA8QHuHT",
        "outputId": "347514ec-968e-4954-c1a5-77dd38554a7f"
      },
      "execution_count": null,
      "outputs": [
        {
          "output_type": "stream",
          "name": "stdout",
          "text": [
            "Ingrese presupuesto (en millones de pesos): 5634\n",
            "Ingrese porcentaje 1: 40\n",
            "Ingrese Porcentaje 2: 20\n",
            "Ingrese Porcentaje 3: 30\n",
            "Apreciados, electores, durante mi mandato, venceré, la pobreza y, protegeré, la igualdad, del país.. Y es por eso que hoy he venido a proponerles invertir 5634 millones de pesos de la siguiente manera:\n",
            "2253.6 millones de pesos en el empleo\n",
            "1126.8 millones de pesos en la educación\n",
            "1690.2 millones de pesos en la salud\n"
          ]
        }
      ]
    }
  ]
}